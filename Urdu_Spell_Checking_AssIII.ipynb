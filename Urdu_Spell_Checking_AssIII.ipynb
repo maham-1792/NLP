{
 "cells": [
  {
   "cell_type": "code",
   "execution_count": 1,
   "id": "0421f682",
   "metadata": {},
   "outputs": [
    {
     "name": "stdout",
     "output_type": "stream",
     "text": [
      "Requirement already satisfied: hazm in c:\\users\\maham\\anaconda3\\lib\\site-packages (0.10.0)\n",
      "Requirement already satisfied: fasttext-wheel<0.10.0,>=0.9.2 in c:\\users\\maham\\anaconda3\\lib\\site-packages (from hazm) (0.9.2)\n",
      "Requirement already satisfied: flashtext<3.0,>=2.7 in c:\\users\\maham\\anaconda3\\lib\\site-packages (from hazm) (2.7)\n",
      "Requirement already satisfied: gensim<5.0.0,>=4.3.1 in c:\\users\\maham\\anaconda3\\lib\\site-packages (from hazm) (4.3.2)\n",
      "Requirement already satisfied: nltk<4.0.0,>=3.8.1 in c:\\users\\maham\\anaconda3\\lib\\site-packages (from hazm) (3.8.1)\n",
      "Requirement already satisfied: numpy==1.24.3 in c:\\users\\maham\\anaconda3\\lib\\site-packages (from hazm) (1.24.3)\n",
      "Requirement already satisfied: python-crfsuite<0.10.0,>=0.9.9 in c:\\users\\maham\\anaconda3\\lib\\site-packages (from hazm) (0.9.10)\n",
      "Requirement already satisfied: scikit-learn<2.0.0,>=1.2.2 in c:\\users\\maham\\anaconda3\\lib\\site-packages (from hazm) (1.3.2)\n",
      "Requirement already satisfied: pybind11>=2.2 in c:\\users\\maham\\anaconda3\\lib\\site-packages (from fasttext-wheel<0.10.0,>=0.9.2->hazm) (2.12.0)\n",
      "Requirement already satisfied: setuptools>=0.7.0 in c:\\users\\maham\\anaconda3\\lib\\site-packages (from fasttext-wheel<0.10.0,>=0.9.2->hazm) (68.0.0)\n",
      "Requirement already satisfied: scipy>=1.7.0 in c:\\users\\maham\\anaconda3\\lib\\site-packages (from gensim<5.0.0,>=4.3.1->hazm) (1.11.1)\n",
      "Requirement already satisfied: smart-open>=1.8.1 in c:\\users\\maham\\anaconda3\\lib\\site-packages (from gensim<5.0.0,>=4.3.1->hazm) (5.2.1)\n",
      "Requirement already satisfied: click in c:\\users\\maham\\anaconda3\\lib\\site-packages (from nltk<4.0.0,>=3.8.1->hazm) (8.0.4)\n",
      "Requirement already satisfied: joblib in c:\\users\\maham\\anaconda3\\lib\\site-packages (from nltk<4.0.0,>=3.8.1->hazm) (1.2.0)\n",
      "Requirement already satisfied: regex>=2021.8.3 in c:\\users\\maham\\anaconda3\\lib\\site-packages (from nltk<4.0.0,>=3.8.1->hazm) (2022.7.9)\n",
      "Requirement already satisfied: tqdm in c:\\users\\maham\\anaconda3\\lib\\site-packages (from nltk<4.0.0,>=3.8.1->hazm) (4.65.0)\n",
      "Requirement already satisfied: threadpoolctl>=2.0.0 in c:\\users\\maham\\anaconda3\\lib\\site-packages (from scikit-learn<2.0.0,>=1.2.2->hazm) (2.2.0)\n",
      "Requirement already satisfied: colorama in c:\\users\\maham\\anaconda3\\lib\\site-packages (from click->nltk<4.0.0,>=3.8.1->hazm) (0.4.6)\n",
      "Note: you may need to restart the kernel to use updated packages.\n"
     ]
    }
   ],
   "source": [
    "pip install hazm"
   ]
  },
  {
   "cell_type": "code",
   "execution_count": 1,
   "id": "45e67a2c",
   "metadata": {},
   "outputs": [],
   "source": [
    "import tkinter as tk\n",
    "from hazm import Normalizer, word_tokenize\n",
    "\n",
    "# This is a hypothetical list of correctly spelled Urdu words\n",
    "correct_urdu_words = [\"آسمان\", \"آب\", \"آگ\", \"آہنگ\", \"آپ\", \"آرام\", \"آغاز\", \"آم\", \"آنکھ\", \"آزاد\", \"آگاہ\", \"آہستہ\",\n",
    "                      \"آپریشن\", \"آہن\", \"آپشن\", \"آباد\", \"آشیانہ\", \"آہی\", \"آگے\", \"آنا\", \"الغربا\", \"استنتاجات\",\n",
    "                      \"بھنکائیے\", \"ثوموں\", \"گھنگھولیے\", \"اشایب\", \"سلونی\", \"ناپختگی\", \"سانیٹ\", \"پچانواں\", \"تھیلیوں\",\n",
    "                      \"بنسیوں\", \"پگھلتا\", \"فسادن\", \"برجورن\", \"بھوروں\", \"مامورات\", \"نہوضی\", \"سکھالا\", \"ذوالجناحین\",\n",
    "                      \"تھپناتے\", \"درشنوں\", \"انتہائیہ\", \"الاسلام\", \"جمجہ\", \"تھپناتی\", \"چسپیدگی\", \"بھگتا\", \"بدچشم\",\n",
    "                      \"بگھارا\", \"سوہنی\", \"عاین\", \"لپٹاؤ\", \"عایق\", \"دوہرے\", \"سانیا\", \"بھوروے\", \"مرتبین\", \"پژوہش\",\n",
    "                      \"مجسٹر\", \"عاید\", \"بھگتن\", \"انتہائیں\", \"تکشف\", \"بگھارو\", \"دوہری\", \"خوشحالی\", \"اوثان\", \"لاٹھیوں\",\n",
    "                      \"بھنکائیں\", \"پسائے\", \"راہوں\", \"کثیرالوجود\", \"جہتی\", \"مہلکہ\", \"ملینیم\", \"ابسراؤ\", \"پیازہ\", \"تھیک\",\n",
    "                      \"پیازی\", \"پسائی\", \"اداکارہ\", \"رساں\", \"تکعیب\", \"مہلکت\", \"تھلتھلاہٹ\", \"لیمونیڈ\", \"نذروں\", \"تمدیحات\",\n",
    "                      \"پیازا\", \"فسادی\", \"النفوذ\", \"النفوز\", \"پالہنگیں\", \"لایقی\", \"پژوہی\", \"لایقہ\", \"امثالات\", \"موتلف\",\n",
    "                      \"جالسین\", \"پشتیرو\", \"دوہرا\", \"خانگیت\", \"الشہدا\", \"سرنہاں\", \"سانیے\", \"بھگتے\", \"انتہائیت\", \"اباریق\"]\n",
    "\n",
    "def check_spelling():\n",
    "    word = entry.get()\n",
    "    normalized_word = normalizer.normalize(word)\n",
    "    if normalized_word in correct_urdu_words:\n",
    "        result_label.config(text=f\"'{word}' درست املی ہے۔\", fg=\"green\")\n",
    "    else:\n",
    "        # This is a simple heuristic for suggestion\n",
    "        suggestions = [w for w in correct_urdu_words if w.startswith(normalized_word[0])]\n",
    "        suggestion_text = ', '.join(suggestions) if suggestions else \"کوئی تجاویز دستیاب نہیں ہیں۔\"\n",
    "        result_label.config(text=f\"'{word}' کے لئے تجاویز: {suggestion_text}\", fg=\"red\")\n",
    "\n",
    "# Creating the main window\n",
    "root = tk.Tk()\n",
    "root.title(\"اردو املی چیکر\")\n",
    "root.geometry(\"500x250\")  # Setting window size\n",
    "\n",
    "# Normalizer object for normalizing Urdu text\n",
    "normalizer = Normalizer()\n",
    "\n",
    "# Entry widget to type the word\n",
    "entry = tk.Entry(root, font=('Noto Nastaliq Urdu', 18), width=50, bd=5)\n",
    "entry.pack(pady=20)\n",
    "\n",
    "# Button to trigger spell checking\n",
    "check_button = tk.Button(root, text=\"املی چیک کریں\", font=('Noto Nastaliq Urdu', 14), command=check_spelling, bg=\"lightblue\", bd=3)\n",
    "check_button.pack(pady=10)\n",
    "\n",
    "# Label to display the result\n",
    "result_label = tk.Label(root, text=\"\", font=('Noto Nastaliq Urdu', 14))\n",
    "result_label.pack(pady=20)\n",
    "\n",
    "# Running the application\n",
    "root.mainloop()\n"
   ]
  },
  {
   "cell_type": "code",
   "execution_count": null,
   "id": "a7ffc7a5",
   "metadata": {},
   "outputs": [],
   "source": []
  }
 ],
 "metadata": {
  "kernelspec": {
   "display_name": "Python 3 (ipykernel)",
   "language": "python",
   "name": "python3"
  },
  "language_info": {
   "codemirror_mode": {
    "name": "ipython",
    "version": 3
   },
   "file_extension": ".py",
   "mimetype": "text/x-python",
   "name": "python",
   "nbconvert_exporter": "python",
   "pygments_lexer": "ipython3",
   "version": "3.11.5"
  }
 },
 "nbformat": 4,
 "nbformat_minor": 5
}
