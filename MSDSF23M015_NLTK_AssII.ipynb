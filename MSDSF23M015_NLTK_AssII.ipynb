{
 "cells": [
  {
   "cell_type": "code",
   "execution_count": 2,
   "id": "badd65a3",
   "metadata": {},
   "outputs": [],
   "source": [
    "from gensim.utils import tokenize\n",
    "from gensim.parsing.preprocessing import remove_stopwords, strip_punctuation\n",
    "from gensim.parsing.porter import PorterStemmer\n",
    "from gensim.parsing.preprocessing import preprocess_string\n",
    "import string"
   ]
  },
  {
   "cell_type": "code",
   "execution_count": 3,
   "id": "984dc4ed",
   "metadata": {},
   "outputs": [
    {
     "name": "stdout",
     "output_type": "stream",
     "text": [
      "Tokens: ['crop', 'science', 'by', 'matching', 'farming', 'practices', 'more', 'closely', 'to', 'crop', 'needs', 'e', 'g', 'fertilizer', 'inputs', 'environmental', 'protection', 'by', 'reducing', 'environmental', 'risks', 'and', 'footprint', 'of', 'farming', 'e', 'g', 'limiting', 'leaching', 'of', 'nitrogen']\n"
     ]
    }
   ],
   "source": [
    "text = \"\"\"crop science: by matching farming practices more closely to crop needs (e.g. fertilizer inputs);\n",
    "environmental protection: by reducing environmental risks and footprint of farming (e.g. limiting leaching of nitrogen);\"\"\"\n",
    "# Tokenization\n",
    "tokens = list(tokenize(text))\n",
    "print(\"Tokens:\", tokens)"
   ]
  },
  {
   "cell_type": "code",
   "execution_count": 4,
   "id": "50c62a05",
   "metadata": {},
   "outputs": [
    {
     "name": "stdout",
     "output_type": "stream",
     "text": [
      "Sentences: ['crop science: by matching farming practices more closely to crop needs (e', 'g', ' fertilizer inputs);\\nenvironmental protection: by reducing environmental risks and footprint of farming (e', 'g', ' limiting leaching of nitrogen);']\n"
     ]
    }
   ],
   "source": [
    "# Sentence Segmentation\n",
    "sentences = text.split('.')\n",
    "print(\"Sentences:\", sentences)"
   ]
  },
  {
   "cell_type": "code",
   "execution_count": 5,
   "id": "2191cee8",
   "metadata": {},
   "outputs": [
    {
     "name": "stdout",
     "output_type": "stream",
     "text": [
      "Lemmatized Tokens: ['crop', 'science', 'by', 'matching', 'farming', 'practices', 'more', 'closely', 'to', 'crop', 'needs', 'e', 'g', 'fertilizer', 'inputs', 'environmental', 'protection', 'by', 'reducing', 'environmental', 'risks', 'and', 'footprint', 'of', 'farming', 'e', 'g', 'limiting', 'leaching', 'of', 'nitrogen']\n"
     ]
    }
   ],
   "source": [
    "# Lemmatization (Combining lowercasing and punctuation removal)\n",
    "custom_filters = [lambda x: x.lower(), strip_punctuation]\n",
    "lemmatized_tokens = preprocess_string(' '.join(tokens), filters=custom_filters)\n",
    "print(\"Lemmatized Tokens:\", lemmatized_tokens)\n"
   ]
  },
  {
   "cell_type": "code",
   "execution_count": 6,
   "id": "c3eca05a",
   "metadata": {},
   "outputs": [
    {
     "name": "stdout",
     "output_type": "stream",
     "text": [
      "Stemmed Tokens: ['crop', 'scienc', 'by', 'match', 'farm', 'practic', 'more', 'close', 'to', 'crop', 'need', 'e', 'g', 'fertil', 'input', 'environment', 'protect', 'by', 'reduc', 'environment', 'risk', 'and', 'footprint', 'of', 'farm', 'e', 'g', 'limit', 'leach', 'of', 'nitrogen']\n"
     ]
    }
   ],
   "source": [
    "# Stemming (using Gensim's PorterStemmer)\n",
    "stemmer = PorterStemmer()\n",
    "stemmed_tokens = [stemmer.stem(token) for token in tokens]\n",
    "print(\"Stemmed Tokens:\", stemmed_tokens)"
   ]
  },
  {
   "cell_type": "code",
   "execution_count": 7,
   "id": "d800d7bd",
   "metadata": {},
   "outputs": [
    {
     "name": "stdout",
     "output_type": "stream",
     "text": [
      "Normalized Tokens: ['by', 'more', 'to', 'by', 'and', 'of', 'of']\n"
     ]
    }
   ],
   "source": [
    "# Word Normalization (Removing stop words and punctuation)\n",
    "normalized_tokens = [token for token in tokens if token not in remove_stopwords(token) and token not in string.punctuation]\n",
    "print(\"Normalized Tokens:\", normalized_tokens)"
   ]
  },
  {
   "cell_type": "code",
   "execution_count": 13,
   "id": "b35ae45c",
   "metadata": {},
   "outputs": [
    {
     "name": "stdout",
     "output_type": "stream",
     "text": [
      "Requirement already satisfied: nltk in c:\\users\\maham\\anaconda3\\lib\\site-packages (3.8.1)\n",
      "Requirement already satisfied: click in c:\\users\\maham\\anaconda3\\lib\\site-packages (from nltk) (8.0.4)\n",
      "Requirement already satisfied: joblib in c:\\users\\maham\\anaconda3\\lib\\site-packages (from nltk) (1.2.0)\n",
      "Requirement already satisfied: regex>=2021.8.3 in c:\\users\\maham\\anaconda3\\lib\\site-packages (from nltk) (2022.7.9)\n",
      "Requirement already satisfied: tqdm in c:\\users\\maham\\anaconda3\\lib\\site-packages (from nltk) (4.65.0)\n",
      "Requirement already satisfied: colorama in c:\\users\\maham\\anaconda3\\lib\\site-packages (from click->nltk) (0.4.6)\n",
      "Note: you may need to restart the kernel to use updated packages.\n"
     ]
    }
   ],
   "source": [
    "pip install nltk\n"
   ]
  },
  {
   "cell_type": "code",
   "execution_count": 14,
   "id": "ff9ad9c7",
   "metadata": {},
   "outputs": [],
   "source": [
    "import nltk\n",
    "from nltk.tokenize import word_tokenize, sent_tokenize\n",
    "from nltk.stem import WordNetLemmatizer, PorterStemmer\n",
    "from nltk.corpus import wordnet\n",
    "from nltk.corpus import stopwords\n",
    "import string"
   ]
  },
  {
   "cell_type": "code",
   "execution_count": 26,
   "id": "9e6e878a",
   "metadata": {},
   "outputs": [
    {
     "name": "stderr",
     "output_type": "stream",
     "text": [
      "[nltk_data] Downloading package punkt to\n",
      "[nltk_data]     C:\\Users\\maham\\AppData\\Roaming\\nltk_data...\n",
      "[nltk_data]   Package punkt is already up-to-date!\n",
      "[nltk_data] Downloading package wordnet to\n",
      "[nltk_data]     C:\\Users\\maham\\AppData\\Roaming\\nltk_data...\n",
      "[nltk_data]   Package wordnet is already up-to-date!\n",
      "[nltk_data] Downloading package stopwords to\n",
      "[nltk_data]     C:\\Users\\maham\\AppData\\Roaming\\nltk_data...\n",
      "[nltk_data]   Package stopwords is already up-to-date!\n",
      "[nltk_data] Downloading package averaged_perceptron_tagger to\n",
      "[nltk_data]     C:\\Users\\maham\\AppData\\Roaming\\nltk_data...\n",
      "[nltk_data]   Unzipping taggers\\averaged_perceptron_tagger.zip.\n"
     ]
    },
    {
     "data": {
      "text/plain": [
       "True"
      ]
     },
     "execution_count": 26,
     "metadata": {},
     "output_type": "execute_result"
    }
   ],
   "source": [
    "nltk.download('punkt')\n",
    "nltk.download('wordnet')\n",
    "nltk.download('stopwords')\n",
    "import nltk\n",
    "nltk.download('averaged_perceptron_tagger')\n"
   ]
  },
  {
   "cell_type": "code",
   "execution_count": 32,
   "id": "f35cde5b",
   "metadata": {},
   "outputs": [
    {
     "name": "stdout",
     "output_type": "stream",
     "text": [
      "Tokens: ['crop', 'science', ':', 'by', 'matching', 'farming', 'practices', 'more', 'closely', 'to', 'crop', 'needs', '(', 'e.g', '.', 'fertilizer', 'inputs', ')', ';', 'environmental', 'protection', ':', 'by', 'reducing', 'environmental', 'risks', 'and', 'footprint', 'of', 'farming', '(', 'e.g', '.', 'limiting', 'leaching', 'of', 'nitrogen', ')', ';']\n"
     ]
    }
   ],
   "source": [
    "# Example text\n",
    "text = \"\"\"crop science: by matching farming practices more closely to crop needs (e.g. fertilizer inputs);\n",
    "environmental protection: by reducing environmental risks and footprint of farming (e.g. limiting leaching of nitrogen);\"\"\"\n",
    "\n",
    "\n",
    "def tokenize_text(text):\n",
    "    # Tokenization\n",
    "    tokens = word_tokenize(text)\n",
    "    return tokens\n",
    "# Tokenization\n",
    "tokens = tokenize_text(text)\n",
    "print(\"Tokens:\", tokens)"
   ]
  },
  {
   "cell_type": "code",
   "execution_count": 33,
   "id": "98bf8982",
   "metadata": {},
   "outputs": [
    {
     "name": "stdout",
     "output_type": "stream",
     "text": [
      "Sentences: ['crop science: by matching farming practices more closely to crop needs (e.g.', 'fertilizer inputs);\\nenvironmental protection: by reducing environmental risks and footprint of farming (e.g.', 'limiting leaching of nitrogen);']\n"
     ]
    }
   ],
   "source": [
    "def segment_sentences(text):\n",
    "    # Sentence Segmentation\n",
    "    sentences = sent_tokenize(text)\n",
    "    return sentences\n",
    "# Sentence Segmentation\n",
    "sentences = segment_sentences(text)\n",
    "print(\"Sentences:\", sentences)\n"
   ]
  },
  {
   "cell_type": "code",
   "execution_count": 34,
   "id": "95ff18be",
   "metadata": {},
   "outputs": [
    {
     "name": "stdout",
     "output_type": "stream",
     "text": [
      "Lemmatized Tokens: ['crop', 'science', ':', 'by', 'match', 'farm', 'practice', 'more', 'closely', 'to', 'crop', 'need', '(', 'e.g', '.', 'fertilizer', 'input', ')', ';', 'environmental', 'protection', ':', 'by', 'reduce', 'environmental', 'risk', 'and', 'footprint', 'of', 'farm', '(', 'e.g', '.', 'limit', 'leach', 'of', 'nitrogen', ')', ';']\n"
     ]
    }
   ],
   "source": [
    "def lemmatize_tokens(tokens):\n",
    "    # Lemmatization\n",
    "    lemmatizer = WordNetLemmatizer()\n",
    "    lemmatized_tokens = [lemmatizer.lemmatize(token, get_wordnet_pos(token)) for token in tokens]\n",
    "    return lemmatized_tokens\n",
    "# Lemmatization\n",
    "lemmatized_tokens = lemmatize_tokens(tokens)\n",
    "print(\"Lemmatized Tokens:\", lemmatized_tokens)"
   ]
  },
  {
   "cell_type": "code",
   "execution_count": 35,
   "id": "c2be29b8",
   "metadata": {},
   "outputs": [
    {
     "name": "stdout",
     "output_type": "stream",
     "text": [
      "Stemmed Tokens: ['crop', 'scienc', ':', 'by', 'match', 'farm', 'practic', 'more', 'close', 'to', 'crop', 'need', '(', 'e.g', '.', 'fertil', 'input', ')', ';', 'environment', 'protect', ':', 'by', 'reduc', 'environment', 'risk', 'and', 'footprint', 'of', 'farm', '(', 'e.g', '.', 'limit', 'leach', 'of', 'nitrogen', ')', ';']\n"
     ]
    }
   ],
   "source": [
    "def stem_tokens(tokens):\n",
    "    # Stemming\n",
    "    stemmer = PorterStemmer()\n",
    "    stemmed_tokens = [stemmer.stem(token) for token in tokens]\n",
    "    return stemmed_tokens\n",
    "# Stemming\n",
    "stemmed_tokens = stem_tokens(tokens)\n",
    "print(\"Stemmed Tokens:\", stemmed_tokens)"
   ]
  },
  {
   "cell_type": "code",
   "execution_count": 36,
   "id": "b51fef73",
   "metadata": {},
   "outputs": [
    {
     "name": "stdout",
     "output_type": "stream",
     "text": [
      "Normalized Tokens: ['crop', 'science', 'matching', 'farming', 'practices', 'closely', 'crop', 'needs', 'e.g', 'fertilizer', 'inputs', 'environmental', 'protection', 'reducing', 'environmental', 'risks', 'footprint', 'farming', 'e.g', 'limiting', 'leaching', 'nitrogen']\n"
     ]
    }
   ],
   "source": [
    "def normalize_tokens(tokens):\n",
    "    # Word Normalization (Removing stop words and punctuation)\n",
    "    stop_words = set(stopwords.words('english'))\n",
    "    normalized_tokens = [token.lower() for token in tokens if token.lower() not in stop_words and token.lower() not in string.punctuation]\n",
    "    return normalized_tokens\n",
    "# Word Normalization\n",
    "normalized_tokens = normalize_tokens(tokens)\n",
    "print(\"Normalized Tokens:\", normalized_tokens)"
   ]
  },
  {
   "cell_type": "code",
   "execution_count": null,
   "id": "2f2953ce",
   "metadata": {},
   "outputs": [],
   "source": []
  }
 ],
 "metadata": {
  "kernelspec": {
   "display_name": "Python 3 (ipykernel)",
   "language": "python",
   "name": "python3"
  },
  "language_info": {
   "codemirror_mode": {
    "name": "ipython",
    "version": 3
   },
   "file_extension": ".py",
   "mimetype": "text/x-python",
   "name": "python",
   "nbconvert_exporter": "python",
   "pygments_lexer": "ipython3",
   "version": "3.11.5"
  }
 },
 "nbformat": 4,
 "nbformat_minor": 5
}
